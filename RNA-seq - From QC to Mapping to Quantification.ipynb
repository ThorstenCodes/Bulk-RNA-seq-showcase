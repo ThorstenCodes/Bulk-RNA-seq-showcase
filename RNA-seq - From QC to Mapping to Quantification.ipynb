{
 "cells": [
  {
   "cell_type": "markdown",
   "id": "a8500d2f",
   "metadata": {},
   "source": [
    "# RNA-Seq Pipeline from Scratch"
   ]
  },
  {
   "cell_type": "markdown",
   "id": "70e048f0",
   "metadata": {},
   "source": [
    "### How to setup git a new git repository"
   ]
  },
  {
   "cell_type": "markdown",
   "id": "48661ad7",
   "metadata": {},
   "source": [
    "<h2> 🐙 Git and GitHub: The Basics </h2>\n",
    "\n",
    "**1.) Create a New Git Repository on Your Local Machine** <br>\n",
    "\n",
    "First, create a new project folder (`mkdir` = make directory) and navigate into that directory (`cd` = change directory). <br>\n",
    "\n",
    "Run the following commands in the terminal:<br>\n",
    "      `mkdir 'Path_to_new_directory/name_of_the_new_project_directory'`<br>\n",
    "      `cd Path_to_your_new_Project_folder`<br>\n",
    "      \n",
    "\n",
    "**🧬 2.) Initialize Git in Your Local Project Folder** <br>\n",
    "     \n",
    "To initialize Git in your project folder, run:<br>\n",
    "      `git init` <br>\n",
    "This creates a new Git repository locally on your computer.\n",
    "\n",
    "**🔍 3.) Check the status of your Git Repo**\n",
    "\n",
    "Now Git is ready to track the changes you make. This lets you go back to a previous version of your project if something breaks or if you make a mistake. Remember: Git can only track files and changes after you commit them! <br>\n",
    "`git status`<br>\n",
    "\n",
    "This command lists all files and directories in your local Git repository and shows you which of those are:\n",
    "\n",
    "- Untracked files\n",
    "- Files staged for commit\n",
    "\n",
    "But maybe an important one is still missing. What if you don't want to publish a file or directory online (sensitive data or large files). This you can handle by creating a .gitignore file.\n",
    "\n",
    "**🚫 4.) Create a .gitignore File**\n",
    "\n",
    "The .gitignore file tells Git which files or folders should not be tracked or published. \n",
    "It’s a hidden file (the dot in front makes it hidden), so you typically won’t see it in Finder (MacOS).\n",
    "\n",
    "➡️ *Tip: Press **\"Cmd + Shift + .\"** in Finder to toggle bewteen showing and hiding the hidden files.\"*\n",
    "\n",
    "To create a .gitignore file run: \n",
    "\n",
    "`nano .gitignore`\n",
    "      \n",
    "Now:\n",
    "      - Type or paste names of files/folders to ignore (e.g. .DS_Store or .ipynb_checkpoints/ or a \"/raw_data\" directory). <br>\n",
    "      - Press **Control + o** and then **Enter** to save it <br>\n",
    "      - Press **Control + x** and then **Enter** to exit nano <br>\n",
    "      \n",
    "\n",
    "**📝 5.) Start Tracking Changes by Adding and Committing Changes**\n",
    "\n",
    "Once you’ve made some progress in your project, it’s time to commit the changes. \n",
    "But first, you need to tell Git which files to track by adding them.\n",
    "\n",
    "`git add .` to add all files **or** `git add filename directory_name` to add specific files or folders <br>\n",
    "`git status` to check what’s been added <br>\n",
    "`git commit -m 'personal_comment/message'` <br>\n",
    "\n",
    "Git has now taken a snapshot of your work. From now on you can go back to a previous version of your project if something breaks or if you make a mistake. ⚠️ Git can only restore old files when they have been committed before!How to work with branches in Git will be handled later in a seperate section.\n",
    "\n",
    "**🌐 6.) Create a GitHub Repository and Connect It**\n",
    "\n",
    "Now let’s publish your project on GitHub so others can view or collaborate on your code.\n",
    "\n",
    "- Go to https://github.com\n",
    "- Create an account if you don’t have one\n",
    "- Click the green 'New' button in the top-left to create a new repository online. Give it a suitable name. !!!Do NOT initialize the repo with a README!!! You can add it still later.\n",
    "Then switch back to your terminal and run (as instruced by github if you did not initalize with a README):\n",
    "\n",
    "`git remote add origin git@github.com:Your_github_user_name/Name_of_the_repository.git` <br>\n",
    "`git branch -M main` <br>\n",
    "The last code line tells GitHub that the current branch is called main. ⚠️ You only do this once when you set it up! It is important later when working with teams or side branches.\n",
    "\n",
    "**🚀 7.) Push Your Project to GitHub**\n",
    "\n",
    "Now push your local commits to GitHub and publish your work.\n",
    "      `git push -u origin main`\n",
    "\n",
    "Your git status should now show no pending changes. Everything is synced.\n",
    "      \n",
    "✅ As you keep working, use the following cycle:\n",
    "\n",
    "      `git add .`\n",
    "      `git commit -m 'your message'`\n",
    "      `git push -u origin main`\n"
   ]
  },
  {
   "cell_type": "markdown",
   "id": "c2b6dec7",
   "metadata": {},
   "source": []
  },
  {
   "cell_type": "code",
   "execution_count": null,
   "id": "d2971a5c",
   "metadata": {},
   "outputs": [],
   "source": []
  },
  {
   "cell_type": "markdown",
   "id": "742edc42",
   "metadata": {},
   "source": [
    "🗝️ **Shortkeys in VS Code:** <br>\n",
    "\n",
    "`Cmd + Shift + 7 (Cmd + /)` <br>\n",
    "This shortkey toggles to comment (adds a # in front of the line) or uncomment (removes a # from the line) a line.\n",
    "\n",
    "\n"
   ]
  },
  {
   "cell_type": "code",
   "execution_count": null,
   "id": "371afefd",
   "metadata": {},
   "outputs": [],
   "source": []
  },
  {
   "cell_type": "markdown",
   "id": "3ef2d630",
   "metadata": {},
   "source": [
    "🧑🏻‍💻 **Mini Bash Lesson #1: Understanding chmod and File Permissions**\n",
    "\n",
    "chmod stands for \"change mode\". It is a linux command to change the permissions of a file or directory. A file/directory can have the permissions write (w), read (r) and execute (x). Writing gives you the permission to change the code and save it. Reading only allows to open and read it and execute allows to run it. After \"chmod\" numbers encode for the permissions of the owner of the script, a group of users (which might have special permissions) and other users in this order. 7 stands for rwx (its an addition of numbers 4 is for reading, 2 for writing and 1 for executing). Thus, 5 stands for reading and writing (4+1). In the terminal you run: <br>\n",
    "\n",
    "`chmod 755 name_of_your_script.sh` \n",
    "\n",
    "This gives you full permission to edit and run the code while others can only read or run it. \n"
   ]
  },
  {
   "cell_type": "code",
   "execution_count": null,
   "id": "61da1a90",
   "metadata": {},
   "outputs": [],
   "source": []
  }
 ],
 "metadata": {
  "kernelspec": {
   "display_name": "Python 3 (ipykernel)",
   "language": "python",
   "name": "python3"
  },
  "language_info": {
   "codemirror_mode": {
    "name": "ipython",
    "version": 3
   },
   "file_extension": ".py",
   "mimetype": "text/x-python",
   "name": "python",
   "nbconvert_exporter": "python",
   "pygments_lexer": "ipython3",
   "version": "3.10.6"
  },
  "toc": {
   "base_numbering": 1,
   "nav_menu": {},
   "number_sections": true,
   "sideBar": true,
   "skip_h1_title": false,
   "title_cell": "Table of Contents",
   "title_sidebar": "Contents",
   "toc_cell": false,
   "toc_position": {},
   "toc_section_display": true,
   "toc_window_display": false
  }
 },
 "nbformat": 4,
 "nbformat_minor": 5
}
