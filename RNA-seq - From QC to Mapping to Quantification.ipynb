{
 "cells": [
  {
   "cell_type": "markdown",
   "id": "32509e23",
   "metadata": {},
   "source": [
    "# RNA-Seq Pipeline from Scratch"
   ]
  },
  {
   "cell_type": "markdown",
   "id": "61dab7ca",
   "metadata": {},
   "source": [
    "### How to setup git a new git repository"
   ]
  },
  {
   "cell_type": "markdown",
   "id": "272f4ace",
   "metadata": {},
   "source": [
    "<h2> 🐙 Git and GitHub: The Basics </h2>\n",
    "\n",
    "**1.) Create a New Git Repository on Your Local Machine** <br>\n",
    "\n",
    "First, create a new project folder (`mkdir` = make directory) and navigate into that directory (`cd` = change directory). <br>\n",
    "\n",
    "Run the following commands in the terminal:<br>\n",
    "      `mkdir 'Path_to_new_directory/name_of_the_new_project_directory'`<br>\n",
    "      `cd Path_to_your_new_Project_folder`<br>\n",
    "      \n",
    "\n",
    "**🧬 2.) Initialize Git in Your Local Project Folder** <br>\n",
    "     \n",
    "To initialize Git in your project folder, run:<br>\n",
    "      `git init` <br>\n",
    "This creates a new Git repository locally on your computer.\n",
    "\n",
    "**🔍 3.) Check the status of your Git Repo**\n",
    "\n",
    "Now Git is ready to track the changes you make. This lets you go back to a previous version of your project if something breaks or if you make a mistake. Remember: Git can only track files and changes after you commit them! <br>\n",
    "`git status`<br>\n",
    "\n",
    "This command lists all files and directories in your local Git repository and shows you which of those are:\n",
    "\n",
    "- Untracked files\n",
    "- Files staged for commit\n",
    "\n",
    "But maybe an important one is still missing. What if you don't want to publish a file or directory online (sensitive data or large files). This you can handle by creating a .gitignore file.\n",
    "\n",
    "**🚫 4.) Create a .gitignore File**\n",
    "\n",
    "The .gitignore file tells Git which files or folders should not be tracked or published. \n",
    "It’s a hidden file (the dot in front makes it hidden), so you typically won’t see it in Finder (MacOS).\n",
    "\n",
    "➡️ *Tip: Press **\"Cmd + Shift + .\"** in Finder to toggle bewteen showing and hiding the hidden files.\"*\n",
    "\n",
    "To create a .gitignore file run: \n",
    "\n",
    "`nano .gitignore`\n",
    "      \n",
    "Now:\n",
    "      - Type or paste names of files/folders to ignore (e.g. .DS_Store or .ipynb_checkpoints/ or a \"/raw_data\" directory). <br>\n",
    "      - Press **Control + o** and then **Enter** to save it <br>\n",
    "      - Press **Control + x** and then **Enter** to exit nano <br>\n",
    "      \n",
    "\n",
    "**📝 5.) Start Tracking Changes by Adding and Committing Changes**\n",
    "\n",
    "Once you’ve made some progress in your project, it’s time to commit the changes. \n",
    "But first, you need to tell Git which files to track by adding them.\n",
    "\n",
    "`git add .` to add all files **or** `git add filename directory_name` to add specific files or folders <br>\n",
    "`git status` to check what’s been added <br>\n",
    "`git commit -m 'personal_comment/message'` <br>\n",
    "\n",
    "Git has now taken a snapshot of your work. From now on you can go back to a previous version of your project if something breaks or if you make a mistake. ⚠️ Git can only restore old files when they have been committed before!How to work with branches in Git will be handled later in a seperate section.\n",
    "\n",
    "**🌐 6.) Create a GitHub Repository and Connect It**\n",
    "\n",
    "Now let’s publish your project on GitHub so others can view or collaborate on your code.\n",
    "\n",
    "- Go to https://github.com\n",
    "- Create an account if you don’t have one\n",
    "- Click the green 'New' button in the top-left to create a new repository online. Give it a suitable name. !!!Do NOT initialize the repo with a README!!! You can add it still later.\n",
    "Then switch back to your terminal and run (as instruced by github if you did not initalize with a README):\n",
    "\n",
    "`git remote add origin git@github.com:Your_github_user_name/Name_of_the_repository.git` <br>\n",
    "`git branch -M main` <br>\n",
    "The last code line tells GitHub that the current branch is called main. ⚠️ You only do this once when you set it up! It is important later when working with teams or side branches.\n",
    "\n",
    "**🚀 7.) Push Your Project to GitHub**\n",
    "\n",
    "Now push your local commits to GitHub and publish your work.\n",
    "      `git push -u origin main`\n",
    "\n",
    "Your git status should now show no pending changes. Everything is synced.\n",
    "      \n",
    "✅ As you keep working, use the following cycle:\n",
    "\n",
    "      `git add .`\n",
    "      `git commit -m 'your message'`\n",
    "      `git push -u origin main`\n"
   ]
  },
  {
   "cell_type": "markdown",
   "id": "1bd5ef47",
   "metadata": {},
   "source": [
    "# Create a conda environment"
   ]
  },
  {
   "cell_type": "markdown",
   "id": "5ba8055b",
   "metadata": {},
   "source": [
    "Environments help you organize your coding setup by isolating packages and dependencies. Installing everything globally on your system can lead to version conflicts. For example, one program might require numpy version 1.20, while another depends on version 1.24 — updating numpy globally could break the first program.\n",
    "\n",
    "By using environments, you install packages and tools in an isolated space, where each one can have its own compatible versions. This avoids conflicts and makes your workflows more stable and reproducible.\n",
    "\n",
    "Environment managers like Conda and Pyenv simplify the process of creating and managing these isolated environments. In this example, we’ll use Conda.\n",
    "🎯 Objective\n",
    "\n",
    "We will simulate FASTQ files from an RNA-seq experiment aligned to the human genome (hg38). We do this because real human genome and transcriptome sequencing data are access-restricted for privacy and data protection reasons. Simulated reads allow us to demonstrate the analysis pipeline while staying fully compliant with data protection laws.\n",
    "\n",
    "To simulate RNA-seq reads, we’ll use the tool ART (https://www.niehs.nih.gov/research/resources/software/biostatistics/art), which generates Illumina-like sequencing reads from a reference genome. "
   ]
  },
  {
   "cell_type": "markdown",
   "id": "f135389b",
   "metadata": {},
   "source": [
    "1. Install MiniConda\n",
    "\n",
    "This is for MacOS with M1 Apple Silicon:\n",
    "\n",
    "1. Make a directory to hold the Miniconda installation\n",
    "`mkdir -p ~/miniconda3`\n",
    "\n",
    "2. Download the installer script to that folder\n",
    "`curl https://repo.anaconda.com/miniconda/Miniconda3-latest-MacOSX-arm64.sh -o ~/miniconda3/miniconda.sh`\n",
    "\n",
    "3. Run the installer in batch mode (-b), update mode (-u), and set install path (-p)\n",
    "`bash ~/miniconda3/miniconda.sh -b -u -p ~/miniconda3`\n",
    "\n",
    "4. Remove the installer to clean up\n",
    "`rm ~/miniconda3/miniconda.sh`\n",
    "\n",
    "5. Initiate Conda\n",
    "`~/miniconda3/bin/conda init`\n",
    "\n",
    "6. Update your terminal\n",
    "`source ~/.zshrc`   # or ~/.bashrc, depending on your shell\n",
    "\n",
    "\n",
    "Now we can create a new environment by running:\n",
    "\n",
    "`conda create -n your_name -c bioconda -c conda-forge art`\n",
    "\n",
    "The flags meanings is following:\n",
    "-n = name of the conda environment choosen by you <br>\n",
    "-c = channel, in which library conda shall lock for the package and its dependency. Bioconda is a library where a lot of bioinformatic tools are stored. conda-forge has often general packages required as dependencies of this bioinformatic programs. <br>\n",
    "\n",
    "\"art\" is the program we want to install. \n",
    "\n",
    "Finally we activate the environment: \n",
    "\n",
    "`conda activate your_name`\n",
    "\n",
    "\n",
    "With this you installed ART in your environment. Now we install the human genome assembly as fasta (Grch38) and then we can simulate fastq files.\n",
    "\n",
    "1. Download Human Genome\n",
    "\n",
    "`wget ftp://ftp.ensembl.org/pub/release-110/fasta/homo_sapiens/dna/Homo_sapiens.GRCh38.dna.primary_assembly.fa.gz`\n",
    "\n",
    "and unzip it:\n",
    "\n",
    "`gunzip Homo_sapiens.GRCh38.dna.primary_assembly.fa.gz`\n",
    "\n",
    "2. Simulate Fastq Files\n",
    "\n",
    "`art_illumina -ss HS25 -i Homo_sapiens.GRCh38.dna.primary_assembly.fa \\\n",
    "  -l 100 -f 0.5 -p -m 200 -s 10 -o simulated_reads`\n",
    "\n",
    "-ss = sequencing system. (HS25 is HighSeq 2500)<br>\n",
    "-i  = input reference FASTA File<br>\n",
    "-l  = read length <br>\n",
    "-f  = fold coverage<br>\n",
    "-p  = paired end reads<br>\n",
    "-m  = mean fragment length (of fragmented DNA before sequencing)<br>\n",
    "-s  = standard deviation of the fragment length<br>\n",
    "-o  = output prefix (in this case \"simulated reads\")<br>\n"
   ]
  },
  {
   "cell_type": "markdown",
   "id": "bede65ee",
   "metadata": {},
   "source": [
    "# RNA-seq Pipeline"
   ]
  },
  {
   "cell_type": "markdown",
   "id": "f3d4cd93",
   "metadata": {},
   "source": [
    "If you need a Demo Fastq file for single end reads you can download one from Bioinformagicians video \"Setup RNA-Seq Pipeline from scratch: fastq (reads) to counts | Step-by-Step Tutorial\"  in the shownotes (https://www.youtube.com/watch?v=lG11JjovJHE). Save it in a directory names \"data\" (in bash `mkdir data` to generate it). <br> \n",
    "Data files are on purpose not uploaded on the github (size reasons). \n",
    "From now on the code will be in the bash script (scripts/Pipeline.sh) since we are writing a pipeline. The bash script will be commented. However, some general bash coding tips and trick or more detailed explanations will be written in here. "
   ]
  },
  {
   "cell_type": "markdown",
   "id": "7ed2d13d",
   "metadata": {},
   "source": [
    "🗝️ **Shortkeys in VS Code:** <br>\n",
    "\n",
    "`Cmd + Shift + 7 (Cmd + /)` <br>\n",
    "This shortkey toggles to comment (adds a # in front of the line) or uncomment (removes a # from the line) a line.\n",
    "\n",
    "\n"
   ]
  },
  {
   "cell_type": "markdown",
   "id": "5c6074ac",
   "metadata": {},
   "source": [
    "🗝️ **Shortkeys in VS Code:** <br>\n",
    "\n",
    "`Cmd + s` <br>\n",
    "This shortkey saves the file. Always do it when you changed something and before running it, otherwise it will run the old script again"
   ]
  },
  {
   "cell_type": "markdown",
   "id": "77e14fde",
   "metadata": {},
   "source": [
    "**Final comments:** On the MacBook with M1 Metal processor the pipeline took around 26 min since HISAT2 \n",
    "running only on CPU take some more time than multiple core CPU. Since HISAT2 uses less memory this is also the reason why I don't use STAR2 here. "
   ]
  },
  {
   "cell_type": "markdown",
   "id": "0932f3e3",
   "metadata": {},
   "source": [
    "If your script is not running you might need to change permission for it in your terminal: \n",
    "\n",
    "🧑🏻‍💻 **Mini Bash Lesson #1: Understanding chmod and File Permissions**\n",
    "\n",
    "chmod stands for \"change mode\". It is a linux command to change the permissions of a file or directory. A file/directory can have the permissions write (w), read (r) and execute (x). Writing gives you the permission to change the code and save it. Reading only allows to open and read it and execute allows to run it. After \"chmod\" numbers encode for the permissions of the owner of the script, a group of users (which might have special permissions) and other users in this order. 7 stands for rwx (its an addition of numbers 4 is for reading, 2 for writing and 1 for executing). Thus, 5 stands for reading and writing (4+1). In the terminal you run: <br>\n",
    "\n",
    "`chmod 755 name_of_your_script.sh` \n",
    "\n",
    "This gives you full permission to edit and run the code while others can only read or run it. "
   ]
  },
  {
   "cell_type": "code",
   "execution_count": null,
   "id": "e081ff35",
   "metadata": {},
   "outputs": [],
   "source": []
  }
 ],
 "metadata": {
  "kernelspec": {
   "display_name": "Python 3 (ipykernel)",
   "language": "python",
   "name": "python3"
  },
  "language_info": {
   "codemirror_mode": {
    "name": "ipython",
    "version": 3
   },
   "file_extension": ".py",
   "mimetype": "text/x-python",
   "name": "python",
   "nbconvert_exporter": "python",
   "pygments_lexer": "ipython3",
   "version": "3.10.6"
  },
  "toc": {
   "base_numbering": 1,
   "nav_menu": {},
   "number_sections": true,
   "sideBar": true,
   "skip_h1_title": false,
   "title_cell": "Table of Contents",
   "title_sidebar": "Contents",
   "toc_cell": false,
   "toc_position": {},
   "toc_section_display": true,
   "toc_window_display": false
  }
 },
 "nbformat": 4,
 "nbformat_minor": 5
}
